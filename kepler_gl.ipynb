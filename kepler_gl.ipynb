{
 "cells": [
  {
   "cell_type": "code",
   "execution_count": 1,
   "metadata": {},
   "outputs": [],
   "source": [
    "from keplergl import KeplerGl\n",
    "import numpy as np\n",
    "import pandas as pd\n",
    "from visvalingamwyatt import Simplifier\n",
    "import json"
   ]
  },
  {
   "cell_type": "markdown",
   "metadata": {},
   "source": [
    "~*~ Must open in jupyter notebook for widget to work ~*~"
   ]
  },
  {
   "cell_type": "markdown",
   "metadata": {},
   "source": [
    "# Neighborhoods"
   ]
  },
  {
   "cell_type": "code",
   "execution_count": 2,
   "metadata": {},
   "outputs": [],
   "source": [
    "bounds = pd.read_pickle('community_boundaries.pickle')"
   ]
  },
  {
   "cell_type": "code",
   "execution_count": 3,
   "metadata": {},
   "outputs": [
    {
     "data": {
      "text/html": [
       "<div>\n",
       "<style scoped>\n",
       "    .dataframe tbody tr th:only-of-type {\n",
       "        vertical-align: middle;\n",
       "    }\n",
       "\n",
       "    .dataframe tbody tr th {\n",
       "        vertical-align: top;\n",
       "    }\n",
       "\n",
       "    .dataframe thead th {\n",
       "        text-align: right;\n",
       "    }\n",
       "</style>\n",
       "<table border=\"1\" class=\"dataframe\">\n",
       "  <thead>\n",
       "    <tr style=\"text-align: right;\">\n",
       "      <th></th>\n",
       "      <th>date</th>\n",
       "      <th>pickup_community_area</th>\n",
       "      <th>rides</th>\n",
       "    </tr>\n",
       "  </thead>\n",
       "  <tbody>\n",
       "    <tr>\n",
       "      <th>32801</th>\n",
       "      <td>2019-12-31</td>\n",
       "      <td>9</td>\n",
       "      <td>414</td>\n",
       "    </tr>\n",
       "  </tbody>\n",
       "</table>\n",
       "</div>"
      ],
      "text/plain": [
       "            date pickup_community_area  rides\n",
       "32801 2019-12-31                     9    414"
      ]
     },
     "execution_count": 3,
     "metadata": {},
     "output_type": "execute_result"
    }
   ],
   "source": [
    "daily_df = pd.read_pickle('daily_df.pickle')\n",
    "\n",
    "daily_df.head(1)"
   ]
  },
  {
   "cell_type": "code",
   "execution_count": 4,
   "metadata": {},
   "outputs": [
    {
     "data": {
      "text/html": [
       "<div>\n",
       "<style scoped>\n",
       "    .dataframe tbody tr th:only-of-type {\n",
       "        vertical-align: middle;\n",
       "    }\n",
       "\n",
       "    .dataframe tbody tr th {\n",
       "        vertical-align: top;\n",
       "    }\n",
       "\n",
       "    .dataframe thead th {\n",
       "        text-align: right;\n",
       "    }\n",
       "</style>\n",
       "<table border=\"1\" class=\"dataframe\">\n",
       "  <thead>\n",
       "    <tr style=\"text-align: right;\">\n",
       "      <th></th>\n",
       "      <th>date_time</th>\n",
       "      <th>pickup_community_area</th>\n",
       "      <th>rides</th>\n",
       "    </tr>\n",
       "  </thead>\n",
       "  <tbody>\n",
       "    <tr>\n",
       "      <th>29449</th>\n",
       "      <td>2018-11-17 01:00:00</td>\n",
       "      <td>1.0</td>\n",
       "      <td>117</td>\n",
       "    </tr>\n",
       "  </tbody>\n",
       "</table>\n",
       "</div>"
      ],
      "text/plain": [
       "                date_time  pickup_community_area  rides\n",
       "29449 2018-11-17 01:00:00                    1.0    117"
      ]
     },
     "execution_count": 4,
     "metadata": {},
     "output_type": "execute_result"
    }
   ],
   "source": [
    "hour_test = pd.read_pickle('hour_test.pickle')\n",
    "\n",
    "hour_test.head(1)"
   ]
  },
  {
   "cell_type": "code",
   "execution_count": 5,
   "metadata": {},
   "outputs": [],
   "source": [
    "def simplify_coords(coords, ratio=.5):\n",
    "    \n",
    "    simplifier = Simplifier(coords['coordinates'][0][0])\n",
    "    coords = {'type': 'MultiPolygon',\n",
    "              'coordinates': [[[list(x) for x in list(simplifier.simplify(ratio=ratio))]]]}\n",
    "    \n",
    "    return coords"
   ]
  },
  {
   "cell_type": "code",
   "execution_count": 6,
   "metadata": {
    "scrolled": true
   },
   "outputs": [],
   "source": [
    "bounds['simple'] = bounds['the_geom'].apply(lambda row: simplify_coords(row, ratio=.05))"
   ]
  },
  {
   "cell_type": "code",
   "execution_count": 7,
   "metadata": {},
   "outputs": [
    {
     "name": "stdout",
     "output_type": "stream",
     "text": [
      "length differences: [334 298 300 311 658 740 289 693 874 879]\n",
      "original lengths:   [352 314 317 328 693 779 305 730 921 926]\n",
      "new lengths:        [18 16 17 17 35 39 16 37 47 47]\n"
     ]
    }
   ],
   "source": [
    "orig = np.array([len(x['coordinates'][0][0]) for x in bounds['the_geom'][:10]])\n",
    "one = np.array([len(x['coordinates'][0][0]) for x in bounds['simple'][:10]])\n",
    "\n",
    "print(f'length differences: {orig- one}')\n",
    "print(f'original lengths:   {orig}')\n",
    "print(f'new lengths:        {one}')"
   ]
  },
  {
   "cell_type": "code",
   "execution_count": 8,
   "metadata": {},
   "outputs": [],
   "source": [
    "to_keep = ['area_numbe','community', 'simple']\n",
    "\n",
    "merged = hour_test.merge(bounds[to_keep], how='left',\n",
    "                        left_on='pickup_community_area',\n",
    "                        right_on='area_numbe')\n",
    "\n",
    "merged['date_time'] = merged['date_time'].map(lambda x: x.isoformat())"
   ]
  },
  {
   "cell_type": "code",
   "execution_count": 11,
   "metadata": {},
   "outputs": [
    {
     "data": {
      "text/html": [
       "<div>\n",
       "<style scoped>\n",
       "    .dataframe tbody tr th:only-of-type {\n",
       "        vertical-align: middle;\n",
       "    }\n",
       "\n",
       "    .dataframe tbody tr th {\n",
       "        vertical-align: top;\n",
       "    }\n",
       "\n",
       "    .dataframe thead th {\n",
       "        text-align: right;\n",
       "    }\n",
       "</style>\n",
       "<table border=\"1\" class=\"dataframe\">\n",
       "  <thead>\n",
       "    <tr style=\"text-align: right;\">\n",
       "      <th></th>\n",
       "      <th>date_time</th>\n",
       "      <th>pickup_community_area</th>\n",
       "      <th>rides</th>\n",
       "      <th>area_numbe</th>\n",
       "      <th>community</th>\n",
       "      <th>simple</th>\n",
       "    </tr>\n",
       "  </thead>\n",
       "  <tbody>\n",
       "    <tr>\n",
       "      <th>14</th>\n",
       "      <td>2018-11-17T01:00:00</td>\n",
       "      <td>15.0</td>\n",
       "      <td>61</td>\n",
       "      <td>15.0</td>\n",
       "      <td>PORTAGE PARK</td>\n",
       "      <td>{'type': 'MultiPolygon', 'coordinates': [[[[-8...</td>\n",
       "    </tr>\n",
       "    <tr>\n",
       "      <th>91</th>\n",
       "      <td>2018-11-17T02:00:00</td>\n",
       "      <td>15.0</td>\n",
       "      <td>67</td>\n",
       "      <td>15.0</td>\n",
       "      <td>PORTAGE PARK</td>\n",
       "      <td>{'type': 'MultiPolygon', 'coordinates': [[[[-8...</td>\n",
       "    </tr>\n",
       "    <tr>\n",
       "      <th>167</th>\n",
       "      <td>2018-11-17T03:00:00</td>\n",
       "      <td>15.0</td>\n",
       "      <td>36</td>\n",
       "      <td>15.0</td>\n",
       "      <td>PORTAGE PARK</td>\n",
       "      <td>{'type': 'MultiPolygon', 'coordinates': [[[[-8...</td>\n",
       "    </tr>\n",
       "    <tr>\n",
       "      <th>243</th>\n",
       "      <td>2018-11-17T04:00:00</td>\n",
       "      <td>15.0</td>\n",
       "      <td>32</td>\n",
       "      <td>15.0</td>\n",
       "      <td>PORTAGE PARK</td>\n",
       "      <td>{'type': 'MultiPolygon', 'coordinates': [[[[-8...</td>\n",
       "    </tr>\n",
       "    <tr>\n",
       "      <th>319</th>\n",
       "      <td>2018-11-17T05:00:00</td>\n",
       "      <td>15.0</td>\n",
       "      <td>40</td>\n",
       "      <td>15.0</td>\n",
       "      <td>PORTAGE PARK</td>\n",
       "      <td>{'type': 'MultiPolygon', 'coordinates': [[[[-8...</td>\n",
       "    </tr>\n",
       "    <tr>\n",
       "      <th>...</th>\n",
       "      <td>...</td>\n",
       "      <td>...</td>\n",
       "      <td>...</td>\n",
       "      <td>...</td>\n",
       "      <td>...</td>\n",
       "      <td>...</td>\n",
       "    </tr>\n",
       "    <tr>\n",
       "      <th>14283</th>\n",
       "      <td>2018-11-24T19:00:00</td>\n",
       "      <td>15.0</td>\n",
       "      <td>121</td>\n",
       "      <td>15.0</td>\n",
       "      <td>PORTAGE PARK</td>\n",
       "      <td>{'type': 'MultiPolygon', 'coordinates': [[[[-8...</td>\n",
       "    </tr>\n",
       "    <tr>\n",
       "      <th>14360</th>\n",
       "      <td>2018-11-24T20:00:00</td>\n",
       "      <td>15.0</td>\n",
       "      <td>95</td>\n",
       "      <td>15.0</td>\n",
       "      <td>PORTAGE PARK</td>\n",
       "      <td>{'type': 'MultiPolygon', 'coordinates': [[[[-8...</td>\n",
       "    </tr>\n",
       "    <tr>\n",
       "      <th>14437</th>\n",
       "      <td>2018-11-24T21:00:00</td>\n",
       "      <td>15.0</td>\n",
       "      <td>100</td>\n",
       "      <td>15.0</td>\n",
       "      <td>PORTAGE PARK</td>\n",
       "      <td>{'type': 'MultiPolygon', 'coordinates': [[[[-8...</td>\n",
       "    </tr>\n",
       "    <tr>\n",
       "      <th>14514</th>\n",
       "      <td>2018-11-24T22:00:00</td>\n",
       "      <td>15.0</td>\n",
       "      <td>124</td>\n",
       "      <td>15.0</td>\n",
       "      <td>PORTAGE PARK</td>\n",
       "      <td>{'type': 'MultiPolygon', 'coordinates': [[[[-8...</td>\n",
       "    </tr>\n",
       "    <tr>\n",
       "      <th>14591</th>\n",
       "      <td>2018-11-24T23:00:00</td>\n",
       "      <td>15.0</td>\n",
       "      <td>136</td>\n",
       "      <td>15.0</td>\n",
       "      <td>PORTAGE PARK</td>\n",
       "      <td>{'type': 'MultiPolygon', 'coordinates': [[[[-8...</td>\n",
       "    </tr>\n",
       "  </tbody>\n",
       "</table>\n",
       "<p>191 rows × 6 columns</p>\n",
       "</div>"
      ],
      "text/plain": [
       "                 date_time  pickup_community_area  rides  area_numbe  \\\n",
       "14     2018-11-17T01:00:00                   15.0     61        15.0   \n",
       "91     2018-11-17T02:00:00                   15.0     67        15.0   \n",
       "167    2018-11-17T03:00:00                   15.0     36        15.0   \n",
       "243    2018-11-17T04:00:00                   15.0     32        15.0   \n",
       "319    2018-11-17T05:00:00                   15.0     40        15.0   \n",
       "...                    ...                    ...    ...         ...   \n",
       "14283  2018-11-24T19:00:00                   15.0    121        15.0   \n",
       "14360  2018-11-24T20:00:00                   15.0     95        15.0   \n",
       "14437  2018-11-24T21:00:00                   15.0    100        15.0   \n",
       "14514  2018-11-24T22:00:00                   15.0    124        15.0   \n",
       "14591  2018-11-24T23:00:00                   15.0    136        15.0   \n",
       "\n",
       "          community                                             simple  \n",
       "14     PORTAGE PARK  {'type': 'MultiPolygon', 'coordinates': [[[[-8...  \n",
       "91     PORTAGE PARK  {'type': 'MultiPolygon', 'coordinates': [[[[-8...  \n",
       "167    PORTAGE PARK  {'type': 'MultiPolygon', 'coordinates': [[[[-8...  \n",
       "243    PORTAGE PARK  {'type': 'MultiPolygon', 'coordinates': [[[[-8...  \n",
       "319    PORTAGE PARK  {'type': 'MultiPolygon', 'coordinates': [[[[-8...  \n",
       "...             ...                                                ...  \n",
       "14283  PORTAGE PARK  {'type': 'MultiPolygon', 'coordinates': [[[[-8...  \n",
       "14360  PORTAGE PARK  {'type': 'MultiPolygon', 'coordinates': [[[[-8...  \n",
       "14437  PORTAGE PARK  {'type': 'MultiPolygon', 'coordinates': [[[[-8...  \n",
       "14514  PORTAGE PARK  {'type': 'MultiPolygon', 'coordinates': [[[[-8...  \n",
       "14591  PORTAGE PARK  {'type': 'MultiPolygon', 'coordinates': [[[[-8...  \n",
       "\n",
       "[191 rows x 6 columns]"
      ]
     },
     "execution_count": 11,
     "metadata": {},
     "output_type": "execute_result"
    }
   ],
   "source": [
    "merged[merged['area_numbe'] == 15]"
   ]
  },
  {
   "cell_type": "code",
   "execution_count": 9,
   "metadata": {},
   "outputs": [],
   "source": [
    "def open_config(file_name='config.json'):\n",
    "    \n",
    "    try:\n",
    "        current_file = json.load(open(file_name, 'r'))\n",
    "        print('config loaded')\n",
    "        return current_file\n",
    "    except FileNotFoundError:\n",
    "        print('no current config file. plz initialize map, and use map.config')\n",
    "        pass"
   ]
  },
  {
   "cell_type": "code",
   "execution_count": 10,
   "metadata": {},
   "outputs": [
    {
     "name": "stdout",
     "output_type": "stream",
     "text": [
      "config loaded\n"
     ]
    }
   ],
   "source": [
    "config = open_config()"
   ]
  },
  {
   "cell_type": "code",
   "execution_count": 11,
   "metadata": {},
   "outputs": [
    {
     "name": "stdout",
     "output_type": "stream",
     "text": [
      "User Guide: https://github.com/keplergl/kepler.gl/blob/master/docs/keplergl-jupyter/user-guide.md\n"
     ]
    },
    {
     "data": {
      "application/vnd.jupyter.widget-view+json": {
       "model_id": "64e2196b56d1489a97cc1fc88423668a",
       "version_major": 2,
       "version_minor": 0
      },
      "text/plain": [
       "KeplerGl(data={'data_1': {'index': [0, 1, 2, 3, 4, 5, 6, 7, 8, 9, 10, 11, 12, 13, 14, 15, 16, 17, 18, 19, 20, …"
      ]
     },
     "metadata": {},
     "output_type": "display_data"
    }
   ],
   "source": [
    "map_1 = KeplerGl(height=800)\n",
    "map_1.add_data(merged, 'data_1')\n",
    "map_1"
   ]
  },
  {
   "cell_type": "code",
   "execution_count": 17,
   "metadata": {},
   "outputs": [],
   "source": [
    "def save_config(config, file_name='config.json'):\n",
    "    \n",
    "    try:\n",
    "        current_file = json.load(open(file_name, 'r'))\n",
    "        if config != current_file:\n",
    "            print('changes detected. saving current config')\n",
    "            with open(file_name, 'w') as f:\n",
    "                json.dump(config, f)\n",
    "        else:\n",
    "            print('no changes detected')\n",
    "            \n",
    "    except FileNotFoundError:\n",
    "        print('no existing file in directory. saving current config')\n",
    "        with open(file_name, 'w') as f:\n",
    "                json.dump(config, f)"
   ]
  },
  {
   "cell_type": "code",
   "execution_count": 18,
   "metadata": {},
   "outputs": [
    {
     "name": "stdout",
     "output_type": "stream",
     "text": [
      "changes detected. saving current config\n"
     ]
    }
   ],
   "source": [
    "save_config(map_1.config)"
   ]
  },
  {
   "cell_type": "code",
   "execution_count": 19,
   "metadata": {},
   "outputs": [
    {
     "name": "stdout",
     "output_type": "stream",
     "text": [
      "Map saved to chicago.html!\n"
     ]
    }
   ],
   "source": [
    "map_1.save_to_html(file_name='chicago.html')"
   ]
  },
  {
   "cell_type": "code",
   "execution_count": null,
   "metadata": {},
   "outputs": [],
   "source": []
  },
  {
   "cell_type": "markdown",
   "metadata": {},
   "source": [
    "# Census Tracts"
   ]
  },
  {
   "cell_type": "code",
   "execution_count": 15,
   "metadata": {},
   "outputs": [],
   "source": [
    "## Adding the ability to analyze on a census level\n",
    "\n",
    "# tract_df = pd.read_pickle('tract_df.pickle')\n",
    "\n",
    "# census_df = pd.read_pickle('census_df.pickle')\n",
    "\n",
    "# census_df['pickup_census_tract'].value_counts(dropna=False)\n",
    "\n",
    "# census_df['the_geom'].isna().sum()\n",
    "\n",
    "# census_df.dropna(inplace=True)\n",
    "\n",
    "# census_df['the_geom'] = census_df['the_geom'].map(lambda row: simplify_coords(row, ratio=.2))\n",
    "\n",
    "# census_df.shape"
   ]
  },
  {
   "cell_type": "code",
   "execution_count": null,
   "metadata": {},
   "outputs": [],
   "source": []
  }
 ],
 "metadata": {
  "kernelspec": {
   "display_name": "Python [conda env:learn-env] *",
   "language": "python",
   "name": "conda-env-learn-env-py"
  },
  "language_info": {
   "codemirror_mode": {
    "name": "ipython",
    "version": 3
   },
   "file_extension": ".py",
   "mimetype": "text/x-python",
   "name": "python",
   "nbconvert_exporter": "python",
   "pygments_lexer": "ipython3",
   "version": "3.6.9"
  }
 },
 "nbformat": 4,
 "nbformat_minor": 4
}
